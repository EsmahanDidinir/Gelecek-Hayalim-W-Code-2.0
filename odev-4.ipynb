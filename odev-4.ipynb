{
 "cells": [
  {
   "cell_type": "code",
   "execution_count": 7,
   "id": "74494921",
   "metadata": {},
   "outputs": [
    {
     "name": "stdout",
     "output_type": "stream",
     "text": [
      "3\n",
      "Hi-Kod\n",
      "4.7\n",
      "[9, '3', 8.4, 'Hi-Kod']\n",
      "[8.4, 'Hi-Kod', 'False', 4.7]\n"
     ]
    }
   ],
   "source": [
    "liste = [\"Python\",True,9,\"3\",8.4,\"Hi-Kod\",\"False\",4.7]\n",
    "liste[3]\n",
    "print(liste[3])\n",
    "\n",
    "liste[5]\n",
    "print(liste[5])\n",
    "\n",
    "liste[-1]\n",
    "print(liste[-1])\n",
    "\n",
    "a=liste[2:6]\n",
    "print(a)\n",
    "\n",
    "b=liste[4:]\n",
    "print(b)"
   ]
  },
  {
   "cell_type": "code",
   "execution_count": 8,
   "id": "4e3bf095",
   "metadata": {},
   "outputs": [
    {
     "name": "stdout",
     "output_type": "stream",
     "text": [
      "['Python', '3', 'Hi-Kod', 'False']\n"
     ]
    }
   ],
   "source": [
    "liste = [\"Python\",True,9,\"3\",8.4,\"Hi-Kod\",\"False\",4.7]\n",
    "yeni_liste=[]\n",
    "for i in liste:\n",
    "    if type(i) == str:\n",
    "        yeni_liste.append(i)\n",
    "print(yeni_liste)"
   ]
  },
  {
   "cell_type": "code",
   "execution_count": null,
   "id": "d67ada70",
   "metadata": {},
   "outputs": [
    {
     "name": "stdout",
     "output_type": "stream",
     "text": [
      "0 . indexte bulunan meyve: elma\n",
      "1 . indexte bulunan meyve: armut\n",
      "2 . indexte bulunan meyve: muz\n",
      "3 . indexte bulunan meyve: çilek\n"
     ]
    }
   ],
   "source": [
    "meyveler = [\"elma\", \"armut\", \"muz\", \"çilek\"]\n",
    "for index , meyve in enumerate(meyveler):\n",
    "    print(index,\". indexte bulunan meyve: {}\".format(meyve))\n"
   ]
  }
 ],
 "metadata": {
  "kernelspec": {
   "display_name": ".conda",
   "language": "python",
   "name": "python3"
  },
  "language_info": {
   "codemirror_mode": {
    "name": "ipython",
    "version": 3
   },
   "file_extension": ".py",
   "mimetype": "text/x-python",
   "name": "python",
   "nbconvert_exporter": "python",
   "pygments_lexer": "ipython3",
   "version": "3.11.11"
  }
 },
 "nbformat": 4,
 "nbformat_minor": 5
}
