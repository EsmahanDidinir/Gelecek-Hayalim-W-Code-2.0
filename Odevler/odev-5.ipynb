{
 "cells": [
  {
   "cell_type": "code",
   "execution_count": 21,
   "id": "0754e8cb",
   "metadata": {},
   "outputs": [],
   "source": [
    "Notlar = {\"Esmahan\":{\"Matematik\":95,\"Fizik\":90,\"Kimya\":85},\n",
    "          \"Neslihan\" : {\"Matematik\":80,\"Fizik\":85,\"Kimya\":90},\n",
    "          \"Taner\" : {\"Matematik\":70,\"Fizik\":75,\"Kimya\":80}\n",
    "}"
   ]
  },
  {
   "cell_type": "code",
   "execution_count": 22,
   "id": "abc5ee04",
   "metadata": {},
   "outputs": [
    {
     "name": "stdout",
     "output_type": "stream",
     "text": [
      "95\n",
      "85\n",
      "80\n"
     ]
    }
   ],
   "source": [
    "print(Notlar[\"Esmahan\"][\"Matematik\"])\n",
    "print(Notlar[\"Neslihan\"][\"Fizik\"])\n",
    "print(Notlar[\"Taner\"][\"Kimya\"])"
   ]
  },
  {
   "cell_type": "code",
   "execution_count": null,
   "id": "850063cc",
   "metadata": {},
   "outputs": [
    {
     "name": "stdout",
     "output_type": "stream",
     "text": [
      "{'Matematik': 95, 'Fizik': 90, 'Kimya': 85}\n"
     ]
    }
   ],
   "source": [
    "Notlar[\"Esra\"] = Notlar.pop(\"Esmahan\")\n",
    "print(Notlar[\"Esra\"])\n"
   ]
  },
  {
   "cell_type": "code",
   "execution_count": 24,
   "id": "0994af87",
   "metadata": {},
   "outputs": [
    {
     "name": "stdout",
     "output_type": "stream",
     "text": [
      "{'Matematik': 95, 'Fizik': 75, 'Kimya': 80}\n"
     ]
    }
   ],
   "source": [
    "Notlar[\"Taner\"][\"Matematik\"]=95\n",
    "print(Notlar[\"Taner\"])"
   ]
  }
 ],
 "metadata": {
  "kernelspec": {
   "display_name": ".conda",
   "language": "python",
   "name": "python3"
  },
  "language_info": {
   "codemirror_mode": {
    "name": "ipython",
    "version": 3
   },
   "file_extension": ".py",
   "mimetype": "text/x-python",
   "name": "python",
   "nbconvert_exporter": "python",
   "pygments_lexer": "ipython3",
   "version": "3.11.11"
  }
 },
 "nbformat": 4,
 "nbformat_minor": 5
}
