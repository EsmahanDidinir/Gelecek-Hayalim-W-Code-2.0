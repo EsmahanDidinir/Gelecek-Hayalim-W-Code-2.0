{
 "cells": [
  {
   "cell_type": "code",
   "execution_count": 21,
   "id": "c58e13e5",
   "metadata": {},
   "outputs": [
    {
     "data": {
      "text/plain": [
       "array([ 5,  4, 12, 16,  8], dtype=int32)"
      ]
     },
     "execution_count": 21,
     "metadata": {},
     "output_type": "execute_result"
    }
   ],
   "source": [
    "import numpy as np\n",
    "a = np.random.randint(0,21,size = 5)\n",
    "a"
   ]
  },
  {
   "cell_type": "code",
   "execution_count": 22,
   "id": "7984229c",
   "metadata": {},
   "outputs": [
    {
     "data": {
      "text/plain": [
       "(5,)"
      ]
     },
     "execution_count": 22,
     "metadata": {},
     "output_type": "execute_result"
    }
   ],
   "source": [
    "a.shape #eleman sayısı\n"
   ]
  },
  {
   "cell_type": "code",
   "execution_count": 23,
   "id": "9d31123b",
   "metadata": {},
   "outputs": [
    {
     "data": {
      "text/plain": [
       "1"
      ]
     },
     "execution_count": 23,
     "metadata": {},
     "output_type": "execute_result"
    }
   ],
   "source": [
    "a.ndim #boyutu"
   ]
  },
  {
   "cell_type": "code",
   "execution_count": 24,
   "id": "3a811ebb",
   "metadata": {},
   "outputs": [
    {
     "data": {
      "text/plain": [
       "array([[1, 2, 6, 7],\n",
       "       [4, 3, 9, 5]])"
      ]
     },
     "execution_count": 24,
     "metadata": {},
     "output_type": "execute_result"
    }
   ],
   "source": [
    "iki_boyutlu = np.array([[1,2,6,7],\n",
    "[4,3,9,5]])\n",
    "iki_boyutlu\n",
    "\n"
   ]
  },
  {
   "cell_type": "code",
   "execution_count": 25,
   "id": "45169b54",
   "metadata": {},
   "outputs": [
    {
     "data": {
      "text/plain": [
       "(2, 4)"
      ]
     },
     "execution_count": 25,
     "metadata": {},
     "output_type": "execute_result"
    }
   ],
   "source": [
    "iki_boyutlu.shape # satır sütun eleman sayısı\n"
   ]
  },
  {
   "cell_type": "code",
   "execution_count": 26,
   "id": "ffc9bafa",
   "metadata": {},
   "outputs": [
    {
     "data": {
      "text/plain": [
       "8"
      ]
     },
     "execution_count": 26,
     "metadata": {},
     "output_type": "execute_result"
    }
   ],
   "source": [
    "iki_boyutlu.size #eleman sayısı\n"
   ]
  },
  {
   "cell_type": "code",
   "execution_count": 27,
   "id": "6da05d98",
   "metadata": {},
   "outputs": [
    {
     "data": {
      "text/plain": [
       "2"
      ]
     },
     "execution_count": 27,
     "metadata": {},
     "output_type": "execute_result"
    }
   ],
   "source": [
    "iki_boyutlu.ndim # boyutu"
   ]
  },
  {
   "cell_type": "code",
   "execution_count": 28,
   "id": "dbf885b6",
   "metadata": {},
   "outputs": [
    {
     "data": {
      "text/plain": [
       "array([[[ 7,  5, 14],\n",
       "        [21,  8, 11]],\n",
       "\n",
       "       [[ 8,  6, 20],\n",
       "        [14,  3,  9]]])"
      ]
     },
     "execution_count": 28,
     "metadata": {},
     "output_type": "execute_result"
    }
   ],
   "source": [
    "uc_boyutlu = np.array([[[7,5,14],[21,8,11]],\n",
    "[[8,6,20],[14,3,9]]])\n",
    "uc_boyutlu\n"
   ]
  },
  {
   "cell_type": "code",
   "execution_count": 29,
   "id": "879ad53a",
   "metadata": {},
   "outputs": [
    {
     "data": {
      "text/plain": [
       "12"
      ]
     },
     "execution_count": 29,
     "metadata": {},
     "output_type": "execute_result"
    }
   ],
   "source": [
    "uc_boyutlu.size #eleman sayısı\n"
   ]
  },
  {
   "cell_type": "code",
   "execution_count": 30,
   "id": "95d1b66d",
   "metadata": {},
   "outputs": [
    {
     "data": {
      "text/plain": [
       "(2, 2, 3)"
      ]
     },
     "execution_count": 30,
     "metadata": {},
     "output_type": "execute_result"
    }
   ],
   "source": [
    "uc_boyutlu.shape # satır sütun derinlik eleman sayısı\n"
   ]
  },
  {
   "cell_type": "code",
   "execution_count": 31,
   "id": "39ae90f5",
   "metadata": {},
   "outputs": [
    {
     "data": {
      "text/plain": [
       "3"
      ]
     },
     "execution_count": 31,
     "metadata": {},
     "output_type": "execute_result"
    }
   ],
   "source": [
    "uc_boyutlu.ndim # boyutu"
   ]
  },
  {
   "cell_type": "code",
   "execution_count": 32,
   "id": "7a334823",
   "metadata": {},
   "outputs": [
    {
     "name": "stdout",
     "output_type": "stream",
     "text": [
      "2\n"
     ]
    }
   ],
   "source": [
    "print(iki_boyutlu[0][1]) # 2 elemanına ulaşmak için"
   ]
  },
  {
   "cell_type": "code",
   "execution_count": 33,
   "id": "9b08bc33",
   "metadata": {},
   "outputs": [
    {
     "name": "stdout",
     "output_type": "stream",
     "text": [
      "7\n"
     ]
    }
   ],
   "source": [
    "print(iki_boyutlu[0][3]) # 7 elemanına ulaşmak için"
   ]
  },
  {
   "cell_type": "code",
   "execution_count": 34,
   "id": "4598bf46",
   "metadata": {},
   "outputs": [
    {
     "name": "stdout",
     "output_type": "stream",
     "text": [
      "9\n"
     ]
    }
   ],
   "source": [
    "print(uc_boyutlu[1][1][2]) # 9 elemanına ulaşmak için"
   ]
  },
  {
   "cell_type": "code",
   "execution_count": 35,
   "id": "6175ea3f",
   "metadata": {},
   "outputs": [
    {
     "name": "stdout",
     "output_type": "stream",
     "text": [
      "5\n"
     ]
    }
   ],
   "source": [
    "print(uc_boyutlu[0][0][1]) # 5 elemanına ulaşmak için"
   ]
  },
  {
   "cell_type": "code",
   "execution_count": 36,
   "id": "f8fba90f",
   "metadata": {},
   "outputs": [
    {
     "name": "stdout",
     "output_type": "stream",
     "text": [
      "[2 6]\n",
      "[3 9 5]\n"
     ]
    }
   ],
   "source": [
    "print(iki_boyutlu[0,1:3])\n",
    "print(iki_boyutlu[1,1:])"
   ]
  },
  {
   "cell_type": "code",
   "execution_count": 39,
   "id": "abf384c0",
   "metadata": {},
   "outputs": [
    {
     "name": "stdout",
     "output_type": "stream",
     "text": [
      "[21  8 11]\n",
      "[ 6 20]\n"
     ]
    }
   ],
   "source": [
    "print(uc_boyutlu[0][1][0:])\n",
    "print(uc_boyutlu[1][0][1:])"
   ]
  },
  {
   "cell_type": "code",
   "execution_count": 46,
   "id": "7616af87",
   "metadata": {},
   "outputs": [
    {
     "name": "stdout",
     "output_type": "stream",
     "text": [
      "[[1 1 1]\n",
      " [1 1 1]\n",
      " [1 1 1]\n",
      " [1 1 1]\n",
      " [1 1 1]]\n",
      "[[0 0 0]\n",
      " [0 0 0]\n",
      " [0 0 0]\n",
      " [0 0 0]\n",
      " [0 0 0]]\n"
     ]
    }
   ],
   "source": [
    "bir = np.ones((5,3), dtype = int)\n",
    "print(bir)\n",
    "\n",
    "sifir = np.zeros((5,3), dtype = int)\n",
    "print(sifir)"
   ]
  },
  {
   "cell_type": "code",
   "execution_count": 48,
   "id": "5f20d6d9",
   "metadata": {},
   "outputs": [
    {
     "data": {
      "text/plain": [
       "array([[1, 1, 1],\n",
       "       [1, 1, 1],\n",
       "       [1, 1, 1],\n",
       "       [1, 1, 1],\n",
       "       [1, 1, 1],\n",
       "       [0, 0, 0],\n",
       "       [0, 0, 0],\n",
       "       [0, 0, 0],\n",
       "       [0, 0, 0],\n",
       "       [0, 0, 0]])"
      ]
     },
     "execution_count": 48,
     "metadata": {},
     "output_type": "execute_result"
    }
   ],
   "source": [
    "np.concatenate((bir, sifir))"
   ]
  }
 ],
 "metadata": {
  "kernelspec": {
   "display_name": ".conda",
   "language": "python",
   "name": "python3"
  },
  "language_info": {
   "codemirror_mode": {
    "name": "ipython",
    "version": 3
   },
   "file_extension": ".py",
   "mimetype": "text/x-python",
   "name": "python",
   "nbconvert_exporter": "python",
   "pygments_lexer": "ipython3",
   "version": "3.11.11"
  }
 },
 "nbformat": 4,
 "nbformat_minor": 5
}
