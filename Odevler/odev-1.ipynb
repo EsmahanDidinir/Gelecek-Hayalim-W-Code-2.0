{
 "cells": [
  {
   "cell_type": "markdown",
   "id": "51404669",
   "metadata": {},
   "source": [
    "# 1)\n",
    "x = 3 ----> floata çevirelim.\n",
    "\n",
    "y = 4.5 -----> integere çevirelim. \n",
    "\n",
    "z = \"8\" -----> integera çevirelim. \n",
    "\n",
    "a = \"12\" -----> floata çevirelim. \n",
    "\n",
    "b = \"46.8\" ------> integera çevirelim.  "
   ]
  },
  {
   "cell_type": "code",
   "execution_count": 9,
   "id": "c975e67e",
   "metadata": {},
   "outputs": [
    {
     "name": "stdout",
     "output_type": "stream",
     "text": [
      "3 <class 'int'> -> 3.0 <class 'float'>\n",
      "4.5 <class 'float'> -> 4 <class 'int'>\n",
      "8 <class 'int'> -> 8 <class 'int'>\n",
      "12 <class 'int'> -> 12.0 <class 'float'>\n",
      "46.8 <class 'float'> -> 46 <class 'int'>\n"
     ]
    }
   ],
   "source": [
    "x = 3\n",
    "float_x = float(x)\n",
    "print(x,type(x), \"->\" ,float_x,type(float_x))\n",
    "\n",
    "y=4.5\n",
    "int_y=int(y)\n",
    "print(y, type(y), \"->\", int_y, type(int_y))\n",
    "\n",
    "z = 8\n",
    "int_z = int(z)\n",
    "print(z, type(z), \"->\", int_z, type(int_z))\n",
    "\n",
    "a= 12\n",
    "float_a = float(a)\n",
    "print(a, type(a), \"->\", float_a, type(float_a))\n",
    "\n",
    "b = 46.8\n",
    "int_b = int(b)\n",
    "print(b, type(b), \"->\", int_b, type(int_b))"
   ]
  },
  {
   "cell_type": "markdown",
   "id": "ca191d56",
   "metadata": {},
   "source": [
    "# 2)\n",
    "İsimlerden oluşan üç değişkene yaş değerleri atanır. Belirlenen üç değişken birbiriyle karşılaştırma operatörleri ile karşılaştırılır. Bu karşılaştırmalara mantıksal operatörler de eklenir."
   ]
  },
  {
   "cell_type": "code",
   "execution_count": 11,
   "id": "196ecebf",
   "metadata": {},
   "outputs": [
    {
     "name": "stdout",
     "output_type": "stream",
     "text": [
      "False\n",
      "True\n",
      "False\n"
     ]
    }
   ],
   "source": [
    "esmahan_yas = 27\n",
    "neslihan_yas= 25\n",
    "taner_yas= 17\n",
    "print(taner_yas>esmahan_yas)\n",
    "print(taner_yas<neslihan_yas or esmahan_yas>neslihan_yas)\n",
    "print(esmahan_yas==neslihan_yas and taner_yas<neslihan_yas)\n",
    "\n",
    "\n"
   ]
  },
  {
   "cell_type": "markdown",
   "id": "b0f4c28e",
   "metadata": {},
   "source": [
    "# 3)\n",
    "Kullanıcıdan iki değer girmesini istenir. Girilen değerlerin toplama, çıkarma, çarpma, bölme sonuçlarını yazdırılır."
   ]
  },
  {
   "cell_type": "code",
   "execution_count": 13,
   "id": "6e691ce2",
   "metadata": {},
   "outputs": [
    {
     "name": "stdout",
     "output_type": "stream",
     "text": [
      "Girilen sayılar:  4 7\n",
      "Toplama işlemi sonucu:  11\n",
      "Çıkarma işlemi sonucu:  -3\n",
      "Çarpma işlemi sonucu:  28\n",
      "Bölme işlemi sonucu:  0.5714285714285714\n"
     ]
    }
   ],
   "source": [
    "sayi1= int(input(\"Birinci sayıyı giriniz: \"))\n",
    "sayi2= int(input(\"İkinci sayıyı giriniz: \"))\n",
    "print(\"Girilen sayılar: \", sayi1, sayi2)\n",
    "print(\"Toplama işlemi sonucu: \", sayi1+sayi2)\n",
    "print(\"Çıkarma işlemi sonucu: \", sayi1-sayi2)\n",
    "print(\"Çarpma işlemi sonucu: \", sayi1*sayi2)\n",
    "print(\"Bölme işlemi sonucu: \", sayi1/sayi2)"
   ]
  },
  {
   "cell_type": "markdown",
   "id": "301d76bd",
   "metadata": {},
   "source": [
    "# 4)\n",
    "Kullanıcıdan isim, yaş, şehir ve meslek bilgilerini istenir ve cevaplarını yazdırılır."
   ]
  },
  {
   "cell_type": "code",
   "execution_count": 15,
   "id": "0f86d6d8",
   "metadata": {},
   "outputs": [
    {
     "name": "stdout",
     "output_type": "stream",
     "text": [
      "İsim:  Esmahan\n",
      "Yaş:  27\n",
      "Şehir:  Hatay\n",
      "Meslek:  Bilgisayar Mühendisliği\n"
     ]
    }
   ],
   "source": [
    "isim = input(\"İsminizi giriniz: \")\n",
    "yas = int(input(\"Yaşınızı giriniz: \"))\n",
    "sehir = input(\"Şehrinizi giriniz: \")\n",
    "meslek = input(\"Mesleğinizi giriniz: \")\n",
    "print(\"İsim: \", isim)\n",
    "print(\"Yaş: \", yas)\n",
    "print(\"Şehir: \", sehir)\n",
    "print(\"Meslek: \", meslek)"
   ]
  },
  {
   "cell_type": "markdown",
   "id": "56755ed3",
   "metadata": {},
   "source": [
    "# 5)\n",
    "\"Hi-Kod Veri Bilimi Atölyesi\" ifadesini bir değişkene tanımlanır.\n",
    " 1. İfadedeki her bir kelimeyi (\"Hi-Kod\", \"Veri\", \"Bilimi\", \"Atölyesi\") değişken içinden seçilir. \n",
    " 2. İfadeyi hepsini büyük harf olacak hale çevrilir. (\"HI-KOD VERİ BİLİMİ ATÖLYESİ\") \n",
    " 3. İfadeyi hepsini büyük harf olacak hale çevrilir.(\"hi-kod veri bilimi atölyesi\") \n",
    "\"0123456789\" ifadesindeki yalnızca çift sayıları ve yalnızca tek sayıları seçilir. (\"02468\", \"13579\")"
   ]
  },
  {
   "cell_type": "code",
   "execution_count": 18,
   "id": "cc249ca4",
   "metadata": {},
   "outputs": [
    {
     "name": "stdout",
     "output_type": "stream",
     "text": [
      "Kelimeler:  ['Hi-Kod', 'Veri', 'Bilimi', 'Atölyesi']\n",
      "Büyük harfli ifade:  HI-KOD VERI BILIMI ATÖLYESI\n",
      "Küçük harfli ifade:  hi-kod veri bilimi atölyesi\n",
      "Çift sayılar:  02468\n",
      "Tek sayılar:  13579\n"
     ]
    }
   ],
   "source": [
    "str = \"Hi-Kod Veri Bilimi Atölyesi\"\n",
    "kelimeler = str.split()\n",
    "print(\"Kelimeler: \", kelimeler)\n",
    "buyuk_harf = str.upper()\n",
    "print(\"Büyük harfli ifade: \", buyuk_harf)\n",
    "kucuk_harf = str.lower()\n",
    "print(\"Küçük harfli ifade: \", kucuk_harf)\n",
    "sayi = \"0123456789\"\n",
    "cift_Sayi= sayi[0::2]\n",
    "print(\"Çift sayılar: \", cift_Sayi)\n",
    "tek_Sayi= sayi[1::2]\n",
    "print(\"Tek sayılar: \", tek_Sayi)"
   ]
  }
 ],
 "metadata": {
  "kernelspec": {
   "display_name": "base",
   "language": "python",
   "name": "python3"
  },
  "language_info": {
   "codemirror_mode": {
    "name": "ipython",
    "version": 3
   },
   "file_extension": ".py",
   "mimetype": "text/x-python",
   "name": "python",
   "nbconvert_exporter": "python",
   "pygments_lexer": "ipython3",
   "version": "3.12.7"
  }
 },
 "nbformat": 4,
 "nbformat_minor": 5
}
