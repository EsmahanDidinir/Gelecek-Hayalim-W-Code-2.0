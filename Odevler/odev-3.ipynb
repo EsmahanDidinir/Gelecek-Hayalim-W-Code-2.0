{
 "cells": [
  {
   "cell_type": "code",
   "execution_count": 1,
   "id": "a09c8e9e",
   "metadata": {},
   "outputs": [
    {
     "name": "stdout",
     "output_type": "stream",
     "text": [
      "Dairenin alanı: 28.274309999999996\n"
     ]
    }
   ],
   "source": [
    "def daireAlanı (r):\n",
    "    pi = 3.14159\n",
    "    return pi * r * r\n",
    "\n",
    "r = float(input(\"Dairenin yarıçapını girin: \"))\n",
    "print(\"Dairenin alanı:\", daireAlanı(r))"
   ]
  },
  {
   "cell_type": "code",
   "execution_count": 2,
   "id": "318d0c8f",
   "metadata": {},
   "outputs": [
    {
     "name": "stdout",
     "output_type": "stream",
     "text": [
      "Faktöriyel: 5040\n"
     ]
    }
   ],
   "source": [
    "def faktoriyel(n):\n",
    "    if n == 0 or n == 1:\n",
    "        return 1\n",
    "    else:\n",
    "        return n * faktoriyel(n - 1)\n",
    "\n",
    "n = int(input(\"Bir sayı girin: \"))\n",
    "print(\"Faktöriyel:\", faktoriyel(n))"
   ]
  },
  {
   "cell_type": "code",
   "execution_count": 3,
   "id": "9bbb36f5",
   "metadata": {},
   "outputs": [
    {
     "name": "stdout",
     "output_type": "stream",
     "text": [
      "Yaşınız: 27\n"
     ]
    }
   ],
   "source": [
    "def yasHesap (yil):\n",
    "    return 2025-yil\n",
    "\n",
    "yil = int(input(\"Doğum yılınızı girin: \"))\n",
    "print(\"Yaşınız:\", yasHesap(yil))"
   ]
  },
  {
   "cell_type": "code",
   "execution_count": 4,
   "id": "d5f16e41",
   "metadata": {},
   "outputs": [
    {
     "name": "stdout",
     "output_type": "stream",
     "text": [
      "Emekli olamazsınız.Emekliliğinize 38 yıl var.\n"
     ]
    }
   ],
   "source": [
    "def yasHesap (yil):\n",
    "    return 2025-yil\n",
    "\n",
    "def emeklilik (yas):\n",
    "    if yasHesap(yil) >= 65:\n",
    "        print(\"Emekli oldunuz.\")\n",
    "    else:\n",
    "        print(\"Emekli olamazsınız.Emekliliğinize\", 65 - yasHesap(yil), \"yıl var.\")\n",
    "\n",
    "yil = int(input(\"Doğum yılınızı girin: \"))\n",
    "emeklilik(yasHesap(yil))"
   ]
  }
 ],
 "metadata": {
  "kernelspec": {
   "display_name": ".conda",
   "language": "python",
   "name": "python3"
  },
  "language_info": {
   "codemirror_mode": {
    "name": "ipython",
    "version": 3
   },
   "file_extension": ".py",
   "mimetype": "text/x-python",
   "name": "python",
   "nbconvert_exporter": "python",
   "pygments_lexer": "ipython3",
   "version": "3.11.11"
  }
 },
 "nbformat": 4,
 "nbformat_minor": 5
}
