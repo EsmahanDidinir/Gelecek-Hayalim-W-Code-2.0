{
 "cells": [
  {
   "cell_type": "code",
   "execution_count": 16,
   "id": "206d5e30",
   "metadata": {},
   "outputs": [
    {
     "name": "stdout",
     "output_type": "stream",
     "text": [
      "Maaşınız 25000 altında. Yeni maaşınız: 11700.0\n"
     ]
    }
   ],
   "source": [
    "maas = int(input(\"Maaşınızı girin: \"))\n",
    "if maas <= 10000:\n",
    "    maas = maas - (maas * 0.05)\n",
    "    yeni_maas = maas\n",
    "    print(\"Maaşınız 10000 altında. Yeni maaşınız:\", yeni_maas)\n",
    "elif 10000 < maas <= 25000:\n",
    "    maas = maas - (maas * 0.10)\n",
    "    yeni_maas = maas\n",
    "    print(\"Maaşınız 25000 altında. Yeni maaşınız:\", yeni_maas)\n",
    "elif 25000 < maas <= 45000:\n",
    "    maas = maas - (maas * 0.25)\n",
    "    yeni_maas = maas\n",
    "    print(\"Maaşınız 45000 altında. Yeni maaşınız:\", yeni_maas)\n",
    "else :\n",
    "    maas = maas - (maas * 0.30)\n",
    "    yeni_maas = maas\n",
    "    print(\"Maaşınız 45000 ve üstü. Yeni maaşınız:\", yeni_maas)"
   ]
  },
  {
   "cell_type": "code",
   "execution_count": 8,
   "id": "b5aff4fd",
   "metadata": {},
   "outputs": [
    {
     "name": "stdout",
     "output_type": "stream",
     "text": [
      "Kullanıcı adınız: esmahan\n",
      "Şifreniz: didinir\n"
     ]
    }
   ],
   "source": [
    "kullanici_adi = input(\"Kullanıcı adınızı girin: \")\n",
    "print(\"Kullanıcı adınız:\", kullanici_adi)\n",
    "sifre = input(\"Şifrenizi girin: \")\n",
    "if len(sifre) < 6:\n",
    "    print(\"Şifreniz en az 6 karakter olmalıdır.\")\n",
    "else:\n",
    "    print(\"Şifreniz:\", sifre)"
   ]
  },
  {
   "cell_type": "code",
   "execution_count": 13,
   "id": "5b318e84",
   "metadata": {},
   "outputs": [
    {
     "name": "stdout",
     "output_type": "stream",
     "text": [
      "Kullanıcı adınız: esmahan\n",
      "Şifreniz en az 5 ve en fazla 10 karakter olmalıdır.\n"
     ]
    }
   ],
   "source": [
    "kullanici_adi = input(\"Kullanıcı adınızı girin: \")\n",
    "print(\"Kullanıcı adınız:\", kullanici_adi)\n",
    "sifre = input(\"Şifrenizi girin: \")\n",
    "if len(sifre) < 5 or len(sifre) > 10:\n",
    "    print(\"Şifreniz en az 5 ve en fazla 10 karakter olmalıdır.\")\n",
    "else:\n",
    "    print(\"Şifreniz:\", sifre)"
   ]
  },
  {
   "cell_type": "code",
   "execution_count": 15,
   "id": "e80ad1b6",
   "metadata": {},
   "outputs": [
    {
     "name": "stdout",
     "output_type": "stream",
     "text": [
      "Kullanıcı adı veya şifre hatalı. 2 hakkınız kaldı.\n",
      "Kullanıcı adı veya şifre hatalı. 1 hakkınız kaldı.\n",
      "Giriş başarılı!\n"
     ]
    }
   ],
   "source": [
    "kullanici_adi = \"esmahan\"\n",
    "sifre = \"gizli123\"\n",
    "key = 3\n",
    "\n",
    "while key > 0:\n",
    "    girilen_kullanici = input(\"Kullanıcı adınızı girin: \")\n",
    "    girilen_sifre = input(\"Şifrenizi girin: \")\n",
    "    \n",
    "    if kullanici_adi == girilen_kullanici and sifre == girilen_sifre:\n",
    "        print(\"Giriş başarılı!\")\n",
    "        break\n",
    "    else:\n",
    "        key -= 1\n",
    "        if key > 0:\n",
    "            print(f\"Kullanıcı adı veya şifre hatalı. {key} hakkınız kaldı.\")\n",
    "        else:\n",
    "            print(\"Hakkınız kalmadı.\")\n"
   ]
  }
 ],
 "metadata": {
  "kernelspec": {
   "display_name": ".conda",
   "language": "python",
   "name": "python3"
  },
  "language_info": {
   "codemirror_mode": {
    "name": "ipython",
    "version": 3
   },
   "file_extension": ".py",
   "mimetype": "text/x-python",
   "name": "python",
   "nbconvert_exporter": "python",
   "pygments_lexer": "ipython3",
   "version": "3.11.11"
  }
 },
 "nbformat": 4,
 "nbformat_minor": 5
}
